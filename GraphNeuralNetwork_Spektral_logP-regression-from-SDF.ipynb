{
 "cells": [
  {
   "cell_type": "markdown",
   "metadata": {},
   "source": [
    "Tutorial based on the following Spektral example<br />\n",
    "https://github.com/danielegrattarola/spektral/blob/master/examples/classification_delaunay.py\n",
    "\n",
    "Data set source : \"JPlogP: an improved logP predictor trained using predicted data\"<br />\n",
    "https://jcheminf.biomedcentral.com/articles/10.1186/s13321-018-0316-5\n",
    "\n",
    "Conda environment<br />\n",
    "File conda-env_spektral.txt"
   ]
  },
  {
   "cell_type": "code",
   "execution_count": 1,
   "metadata": {},
   "outputs": [
    {
     "name": "stderr",
     "output_type": "stream",
     "text": [
      "Using TensorFlow backend.\n",
      "/home/lionel/anaconda3/envs/spektral/lib/python3.6/site-packages/tensorflow/python/framework/dtypes.py:516: FutureWarning: Passing (type, 1) or '1type' as a synonym of type is deprecated; in a future version of numpy, it will be understood as (type, (1,)) / '(1,)type'.\n",
      "  _np_qint8 = np.dtype([(\"qint8\", np.int8, 1)])\n",
      "/home/lionel/anaconda3/envs/spektral/lib/python3.6/site-packages/tensorflow/python/framework/dtypes.py:517: FutureWarning: Passing (type, 1) or '1type' as a synonym of type is deprecated; in a future version of numpy, it will be understood as (type, (1,)) / '(1,)type'.\n",
      "  _np_quint8 = np.dtype([(\"quint8\", np.uint8, 1)])\n",
      "/home/lionel/anaconda3/envs/spektral/lib/python3.6/site-packages/tensorflow/python/framework/dtypes.py:518: FutureWarning: Passing (type, 1) or '1type' as a synonym of type is deprecated; in a future version of numpy, it will be understood as (type, (1,)) / '(1,)type'.\n",
      "  _np_qint16 = np.dtype([(\"qint16\", np.int16, 1)])\n",
      "/home/lionel/anaconda3/envs/spektral/lib/python3.6/site-packages/tensorflow/python/framework/dtypes.py:519: FutureWarning: Passing (type, 1) or '1type' as a synonym of type is deprecated; in a future version of numpy, it will be understood as (type, (1,)) / '(1,)type'.\n",
      "  _np_quint16 = np.dtype([(\"quint16\", np.uint16, 1)])\n",
      "/home/lionel/anaconda3/envs/spektral/lib/python3.6/site-packages/tensorflow/python/framework/dtypes.py:520: FutureWarning: Passing (type, 1) or '1type' as a synonym of type is deprecated; in a future version of numpy, it will be understood as (type, (1,)) / '(1,)type'.\n",
      "  _np_qint32 = np.dtype([(\"qint32\", np.int32, 1)])\n",
      "/home/lionel/anaconda3/envs/spektral/lib/python3.6/site-packages/tensorflow/python/framework/dtypes.py:525: FutureWarning: Passing (type, 1) or '1type' as a synonym of type is deprecated; in a future version of numpy, it will be understood as (type, (1,)) / '(1,)type'.\n",
      "  np_resource = np.dtype([(\"resource\", np.ubyte, 1)])\n",
      "/home/lionel/anaconda3/envs/spektral/lib/python3.6/site-packages/tensorboard/compat/tensorflow_stub/dtypes.py:541: FutureWarning: Passing (type, 1) or '1type' as a synonym of type is deprecated; in a future version of numpy, it will be understood as (type, (1,)) / '(1,)type'.\n",
      "  _np_qint8 = np.dtype([(\"qint8\", np.int8, 1)])\n",
      "/home/lionel/anaconda3/envs/spektral/lib/python3.6/site-packages/tensorboard/compat/tensorflow_stub/dtypes.py:542: FutureWarning: Passing (type, 1) or '1type' as a synonym of type is deprecated; in a future version of numpy, it will be understood as (type, (1,)) / '(1,)type'.\n",
      "  _np_quint8 = np.dtype([(\"quint8\", np.uint8, 1)])\n",
      "/home/lionel/anaconda3/envs/spektral/lib/python3.6/site-packages/tensorboard/compat/tensorflow_stub/dtypes.py:543: FutureWarning: Passing (type, 1) or '1type' as a synonym of type is deprecated; in a future version of numpy, it will be understood as (type, (1,)) / '(1,)type'.\n",
      "  _np_qint16 = np.dtype([(\"qint16\", np.int16, 1)])\n",
      "/home/lionel/anaconda3/envs/spektral/lib/python3.6/site-packages/tensorboard/compat/tensorflow_stub/dtypes.py:544: FutureWarning: Passing (type, 1) or '1type' as a synonym of type is deprecated; in a future version of numpy, it will be understood as (type, (1,)) / '(1,)type'.\n",
      "  _np_quint16 = np.dtype([(\"quint16\", np.uint16, 1)])\n",
      "/home/lionel/anaconda3/envs/spektral/lib/python3.6/site-packages/tensorboard/compat/tensorflow_stub/dtypes.py:545: FutureWarning: Passing (type, 1) or '1type' as a synonym of type is deprecated; in a future version of numpy, it will be understood as (type, (1,)) / '(1,)type'.\n",
      "  _np_qint32 = np.dtype([(\"qint32\", np.int32, 1)])\n",
      "/home/lionel/anaconda3/envs/spektral/lib/python3.6/site-packages/tensorboard/compat/tensorflow_stub/dtypes.py:550: FutureWarning: Passing (type, 1) or '1type' as a synonym of type is deprecated; in a future version of numpy, it will be understood as (type, (1,)) / '(1,)type'.\n",
      "  np_resource = np.dtype([(\"resource\", np.ubyte, 1)])\n"
     ]
    }
   ],
   "source": [
    "# Imports\n",
    "import numpy as np\n",
    "\n",
    "import pandas as pd\n",
    "\n",
    "import matplotlib.pyplot as plt\n",
    "\n",
    "from keras.layers import Input, Dense\n",
    "from keras.regularizers import l2\n",
    "from keras.models import Model\n",
    "from keras.optimizers import Adam\n",
    "from keras.callbacks import EarlyStopping\n",
    "\n",
    "from sklearn.model_selection import train_test_split\n",
    "from sklearn.metrics import confusion_matrix\n",
    "\n",
    "from spektral.layers import GraphAttention, GlobalAttentionPool\n",
    "from spektral.utils import label_to_one_hot, load_sdf, nx_to_numpy\n",
    "from spektral.chem import sdf_to_nx"
   ]
  },
  {
   "cell_type": "code",
   "execution_count": 2,
   "metadata": {},
   "outputs": [
    {
     "name": "stdout",
     "output_type": "stream",
     "text": [
      "Reading SDF\n"
     ]
    }
   ],
   "source": [
    "# Molecules loading in the SDF internal format of Spektral (not true SD but JSON like)\n",
    "# (5k molecules from the Delaunay et al. article, filtered to contain only CHNO atoms)\n",
    "sdf_loaded = load_sdf(\"data/Trainingset_Delaunay-CHNO5000selected.sdf\", amount=None)"
   ]
  },
  {
   "cell_type": "code",
   "execution_count": 3,
   "metadata": {},
   "outputs": [
    {
     "name": "stdout",
     "output_type": "stream",
     "text": [
      "5000\n"
     ]
    }
   ],
   "source": [
    "# Conversion from SDF to nx.Graphs with Spektral\n",
    "sdf_nx = sdf_to_nx(sdf_loaded, keep_hydrogen=True)\n",
    "print(len(sdf_nx))"
   ]
  },
  {
   "cell_type": "code",
   "execution_count": 4,
   "metadata": {},
   "outputs": [],
   "source": [
    "# Extraction from nx.Graphs of the adjency matrices and the nodes attributes of the molecules\n",
    "sdf_adj, sdf_node, _ = nx_to_numpy(sdf_nx,\n",
    "                                   nf_keys=['atomic_num'],\n",
    "                                   ef_keys=['type']\n",
    "                                  )"
   ]
  },
  {
   "cell_type": "code",
   "execution_count": 5,
   "metadata": {},
   "outputs": [],
   "source": [
    "# Node attributes preprocessing\n",
    "uniq_node = np.unique([v for x in sdf_node for v in np.unique(x)])\n",
    "node = [label_to_one_hot(x, uniq_node) for x in sdf_node]"
   ]
  },
  {
   "cell_type": "code",
   "execution_count": 6,
   "metadata": {},
   "outputs": [
    {
     "name": "stdout",
     "output_type": "stream",
     "text": [
      "(5000, 2)\n"
     ]
    }
   ],
   "source": [
    "# Labels import and preprocessing\n",
    "label_pd = pd.read_csv(\"data/Trainingset_Delaunay-CHNO5000selected_label.csv\")\n",
    "label = label_pd.to_numpy()\n",
    "\n",
    "print(label.shape)"
   ]
  },
  {
   "cell_type": "code",
   "execution_count": 7,
   "metadata": {},
   "outputs": [
    {
     "name": "stdout",
     "output_type": "stream",
     "text": [
      "Number of nodes in the graphs :  58\n",
      "Features dimenssionality : 4\n",
      "Number of classes : 2\n"
     ]
    }
   ],
   "source": [
    "# Model parameters\n",
    "N = node[0].shape[-2]          # Number of nodes in the graphs\n",
    "F = node[0].shape[-1]          # Original feature dimensionality\n",
    "n_classes = label.shape[-1]    # Number of classes\n",
    "\n",
    "l2_reg = 5e-4                  # Regularization rate for l2\n",
    "learning_rate = 1e-4           # Learning rate for Adam\n",
    "epochs = 50                     # Number of training epochs\n",
    "batch_size = 32                # Batch size\n",
    "es_patience = 5                # Patience for early stopping\n",
    "es_delta = 0.001                # Min Delta for early stopping\n",
    "\n",
    "print('Number of nodes in the graphs : ',N)\n",
    "print('Features dimenssionality :',F)\n",
    "print('Number of classes :',n_classes)"
   ]
  },
  {
   "cell_type": "code",
   "execution_count": 8,
   "metadata": {},
   "outputs": [],
   "source": [
    "# Train/test split : 10%\n",
    "A_train, A_test, \\\n",
    "X_train, X_test, \\\n",
    "y_train, y_test = train_test_split(sdf_adj, node, label, test_size=0.1)"
   ]
  },
  {
   "cell_type": "code",
   "execution_count": 9,
   "metadata": {},
   "outputs": [
    {
     "name": "stdout",
     "output_type": "stream",
     "text": [
      "WARNING:tensorflow:From /home/lionel/anaconda3/envs/spektral/lib/python3.6/site-packages/keras/backend/tensorflow_backend.py:66: The name tf.get_default_graph is deprecated. Please use tf.compat.v1.get_default_graph instead.\n",
      "\n",
      "WARNING:tensorflow:From /home/lionel/anaconda3/envs/spektral/lib/python3.6/site-packages/keras/backend/tensorflow_backend.py:541: The name tf.placeholder is deprecated. Please use tf.compat.v1.placeholder instead.\n",
      "\n",
      "WARNING:tensorflow:From /home/lionel/anaconda3/envs/spektral/lib/python3.6/site-packages/keras/backend/tensorflow_backend.py:4432: The name tf.random_uniform is deprecated. Please use tf.random.uniform instead.\n",
      "\n",
      "WARNING:tensorflow:From /home/lionel/anaconda3/envs/spektral/lib/python3.6/site-packages/keras/backend/tensorflow_backend.py:148: The name tf.placeholder_with_default is deprecated. Please use tf.compat.v1.placeholder_with_default instead.\n",
      "\n",
      "WARNING:tensorflow:From /home/lionel/anaconda3/envs/spektral/lib/python3.6/site-packages/keras/backend/tensorflow_backend.py:3733: calling dropout (from tensorflow.python.ops.nn_ops) with keep_prob is deprecated and will be removed in a future version.\n",
      "Instructions for updating:\n",
      "Please use `rate` instead of `keep_prob`. Rate should be set to `rate = 1 - keep_prob`.\n"
     ]
    }
   ],
   "source": [
    "# Model definition\n",
    "X_in = Input(shape=(N, F))\n",
    "A_in = Input((N, N))\n",
    "\n",
    "gc1 = GraphAttention(32, activation='relu', kernel_regularizer=l2(l2_reg))([X_in, A_in])\n",
    "gc2 = GraphAttention(64, activation='relu', kernel_regularizer=l2(l2_reg))([gc1, A_in])\n",
    "pool = GlobalAttentionPool(128)(gc2)\n",
    "\n",
    "output = Dense(n_classes, activation='softmax')(pool)"
   ]
  },
  {
   "cell_type": "code",
   "execution_count": 10,
   "metadata": {},
   "outputs": [
    {
     "name": "stdout",
     "output_type": "stream",
     "text": [
      "WARNING:tensorflow:From /home/lionel/anaconda3/envs/spektral/lib/python3.6/site-packages/keras/optimizers.py:793: The name tf.train.Optimizer is deprecated. Please use tf.compat.v1.train.Optimizer instead.\n",
      "\n",
      "WARNING:tensorflow:From /home/lionel/anaconda3/envs/spektral/lib/python3.6/site-packages/keras/backend/tensorflow_backend.py:3576: The name tf.log is deprecated. Please use tf.math.log instead.\n",
      "\n",
      "Model: \"model_1\"\n",
      "__________________________________________________________________________________________________\n",
      "Layer (type)                    Output Shape         Param #     Connected to                     \n",
      "==================================================================================================\n",
      "input_1 (InputLayer)            (None, 58, 4)        0                                            \n",
      "__________________________________________________________________________________________________\n",
      "input_2 (InputLayer)            (None, 58, 58)       0                                            \n",
      "__________________________________________________________________________________________________\n",
      "graph_attention_1 (GraphAttenti (None, 58, 32)       224         input_1[0][0]                    \n",
      "                                                                 input_2[0][0]                    \n",
      "__________________________________________________________________________________________________\n",
      "graph_attention_2 (GraphAttenti (None, 58, 64)       2240        graph_attention_1[0][0]          \n",
      "                                                                 input_2[0][0]                    \n",
      "__________________________________________________________________________________________________\n",
      "global_attention_pool_1 (Global (None, 128)          16640       graph_attention_2[0][0]          \n",
      "__________________________________________________________________________________________________\n",
      "dense_1 (Dense)                 (None, 2)            258         global_attention_pool_1[0][0]    \n",
      "==================================================================================================\n",
      "Total params: 19,362\n",
      "Trainable params: 19,362\n",
      "Non-trainable params: 0\n",
      "__________________________________________________________________________________________________\n"
     ]
    }
   ],
   "source": [
    "# Build model\n",
    "model = Model(inputs=[X_in, A_in], outputs=output)\n",
    "optimizer = Adam(lr=learning_rate)\n",
    "model.compile(optimizer=optimizer, loss='categorical_crossentropy', metrics=['acc'])\n",
    "model.summary()"
   ]
  },
  {
   "cell_type": "code",
   "execution_count": 11,
   "metadata": {},
   "outputs": [
    {
     "name": "stdout",
     "output_type": "stream",
     "text": [
      "WARNING:tensorflow:From /home/lionel/anaconda3/envs/spektral/lib/python3.6/site-packages/tensorflow/python/ops/math_grad.py:1250: add_dispatch_support.<locals>.wrapper (from tensorflow.python.ops.array_ops) is deprecated and will be removed in a future version.\n",
      "Instructions for updating:\n",
      "Use tf.where in 2.0, which has the same broadcast rule as np.where\n",
      "Train on 4050 samples, validate on 450 samples\n",
      "Epoch 1/50\n",
      "4050/4050 [==============================] - 44s 11ms/step - loss: 0.4901 - acc: 0.7859 - val_loss: 0.3404 - val_acc: 0.8667\n",
      "Epoch 2/50\n",
      "4050/4050 [==============================] - 43s 11ms/step - loss: 0.3677 - acc: 0.8462 - val_loss: 0.3110 - val_acc: 0.8822\n",
      "Epoch 3/50\n",
      "4050/4050 [==============================] - 45s 11ms/step - loss: 0.3568 - acc: 0.8496 - val_loss: 0.3125 - val_acc: 0.8844\n",
      "Epoch 4/50\n",
      "4050/4050 [==============================] - 42s 10ms/step - loss: 0.3450 - acc: 0.8560 - val_loss: 0.2925 - val_acc: 0.8956\n",
      "Epoch 5/50\n",
      "4050/4050 [==============================] - 44s 11ms/step - loss: 0.3387 - acc: 0.8573 - val_loss: 0.3062 - val_acc: 0.8822\n",
      "Epoch 6/50\n",
      "4050/4050 [==============================] - 46s 11ms/step - loss: 0.3341 - acc: 0.8580 - val_loss: 0.2811 - val_acc: 0.9022\n",
      "Epoch 7/50\n",
      "4050/4050 [==============================] - 41s 10ms/step - loss: 0.3267 - acc: 0.8640 - val_loss: 0.2904 - val_acc: 0.8978\n",
      "Epoch 8/50\n",
      "4050/4050 [==============================] - 44s 11ms/step - loss: 0.3277 - acc: 0.8610 - val_loss: 0.2762 - val_acc: 0.8933\n",
      "Epoch 9/50\n",
      "4050/4050 [==============================] - 43s 11ms/step - loss: 0.3206 - acc: 0.8627 - val_loss: 0.2736 - val_acc: 0.8978\n",
      "Epoch 10/50\n",
      "4050/4050 [==============================] - 47s 12ms/step - loss: 0.3171 - acc: 0.8677 - val_loss: 0.2709 - val_acc: 0.8978\n",
      "Epoch 11/50\n",
      "4050/4050 [==============================] - 45s 11ms/step - loss: 0.3143 - acc: 0.8686 - val_loss: 0.2800 - val_acc: 0.8956\n",
      "Epoch 12/50\n",
      "4050/4050 [==============================] - 47s 12ms/step - loss: 0.3115 - acc: 0.8681 - val_loss: 0.2675 - val_acc: 0.8956\n",
      "Epoch 13/50\n",
      "4050/4050 [==============================] - 46s 11ms/step - loss: 0.3096 - acc: 0.8674 - val_loss: 0.2661 - val_acc: 0.8956\n",
      "Epoch 14/50\n",
      "4050/4050 [==============================] - 44s 11ms/step - loss: 0.3091 - acc: 0.8686 - val_loss: 0.2698 - val_acc: 0.8956\n",
      "Epoch 15/50\n",
      "4050/4050 [==============================] - 41s 10ms/step - loss: 0.3041 - acc: 0.8719 - val_loss: 0.2634 - val_acc: 0.8978\n",
      "Epoch 16/50\n",
      "4050/4050 [==============================] - 42s 10ms/step - loss: 0.3029 - acc: 0.8716 - val_loss: 0.2653 - val_acc: 0.8956\n",
      "Epoch 17/50\n",
      "4050/4050 [==============================] - 41s 10ms/step - loss: 0.3017 - acc: 0.8709 - val_loss: 0.2801 - val_acc: 0.8889\n",
      "Epoch 18/50\n",
      "4050/4050 [==============================] - 39s 10ms/step - loss: 0.3044 - acc: 0.8728 - val_loss: 0.2611 - val_acc: 0.8978\n",
      "Epoch 19/50\n",
      "4050/4050 [==============================] - 42s 10ms/step - loss: 0.2985 - acc: 0.8716 - val_loss: 0.2590 - val_acc: 0.8956\n",
      "Epoch 20/50\n",
      "4050/4050 [==============================] - 42s 10ms/step - loss: 0.2977 - acc: 0.8746 - val_loss: 0.2591 - val_acc: 0.8911\n",
      "Epoch 21/50\n",
      "4050/4050 [==============================] - 40s 10ms/step - loss: 0.2966 - acc: 0.8733 - val_loss: 0.2849 - val_acc: 0.8867\n",
      "Epoch 22/50\n",
      "4050/4050 [==============================] - 43s 11ms/step - loss: 0.2970 - acc: 0.8726 - val_loss: 0.2566 - val_acc: 0.8933\n",
      "Epoch 23/50\n",
      "4050/4050 [==============================] - 39s 10ms/step - loss: 0.2973 - acc: 0.8756 - val_loss: 0.2563 - val_acc: 0.8933\n",
      "Epoch 24/50\n",
      "4050/4050 [==============================] - 43s 11ms/step - loss: 0.2954 - acc: 0.8746 - val_loss: 0.2578 - val_acc: 0.8911\n",
      "Epoch 25/50\n",
      "4050/4050 [==============================] - 43s 11ms/step - loss: 0.2944 - acc: 0.8719 - val_loss: 0.2566 - val_acc: 0.8889\n",
      "Epoch 26/50\n",
      "4050/4050 [==============================] - 41s 10ms/step - loss: 0.3002 - acc: 0.8741 - val_loss: 0.2530 - val_acc: 0.8933\n",
      "Epoch 27/50\n",
      "4050/4050 [==============================] - 45s 11ms/step - loss: 0.2919 - acc: 0.8775 - val_loss: 0.2574 - val_acc: 0.8956\n",
      "Epoch 28/50\n",
      "4050/4050 [==============================] - 44s 11ms/step - loss: 0.2930 - acc: 0.8756 - val_loss: 0.2574 - val_acc: 0.9000\n",
      "Epoch 29/50\n",
      "4050/4050 [==============================] - 46s 11ms/step - loss: 0.2937 - acc: 0.8760 - val_loss: 0.2524 - val_acc: 0.9000\n",
      "Epoch 30/50\n",
      "4050/4050 [==============================] - 43s 11ms/step - loss: 0.2898 - acc: 0.8790 - val_loss: 0.2625 - val_acc: 0.8978\n",
      "Epoch 31/50\n",
      "4050/4050 [==============================] - 42s 10ms/step - loss: 0.2915 - acc: 0.8753 - val_loss: 0.2529 - val_acc: 0.9000\n",
      "Restoring model weights from the end of the best epoch\n",
      "Epoch 00031: early stopping\n"
     ]
    }
   ],
   "source": [
    "# Train model : 10% validation split\n",
    "history = model.fit([X_train, A_train],\n",
    "              y_train,\n",
    "              batch_size=batch_size,\n",
    "              validation_split=0.1,\n",
    "              epochs=epochs,\n",
    "              callbacks=[\n",
    "                  EarlyStopping(monitor='val_loss', min_delta=es_delta, patience=es_patience, verbose=1, restore_best_weights=True)\n",
    "              ])"
   ]
  },
  {
   "cell_type": "code",
   "execution_count": 16,
   "metadata": {},
   "outputs": [
    {
     "name": "stdout",
     "output_type": "stream",
     "text": [
      "dict_keys(['val_loss', 'val_acc', 'loss', 'acc'])\n"
     ]
    },
    {
     "data": {
      "image/png": "[encoded data removed]",
      "text/plain": [
       "<Figure size 432x288 with 1 Axes>"
      ]
     },
     "metadata": {
      "needs_background": "light"
     },
     "output_type": "display_data"
    },
    {
     "data": {
      "image/png": "[encoded data removed]",
      "text/plain": [
       "<Figure size 432x288 with 1 Axes>"
      ]
     },
     "metadata": {
      "needs_background": "light"
     },
     "output_type": "display_data"
    }
   ],
   "source": [
    "# list all data in history\n",
    "print(history.history.keys())\n",
    "# summarize history for accuracy\n",
    "plt.plot(history.history['acc'])\n",
    "plt.plot(history.history['val_acc'])\n",
    "plt.title('model accuracy')\n",
    "plt.ylabel('accuracy')\n",
    "plt.xlabel('epoch')\n",
    "plt.legend(['train', 'validation'], loc='upper left')\n",
    "plt.show()\n",
    "# summarize history for loss\n",
    "plt.plot(history.history['loss'])\n",
    "plt.plot(history.history['val_loss'])\n",
    "plt.title('model loss')\n",
    "plt.ylabel('loss')\n",
    "plt.xlabel('epoch')\n",
    "plt.legend(['train', 'validation'], loc='upper left')\n",
    "plt.show()"
   ]
  },
  {
   "cell_type": "code",
   "execution_count": 13,
   "metadata": {},
   "outputs": [
    {
     "name": "stdout",
     "output_type": "stream",
     "text": [
      "Evaluating model.\n",
      "500/500 [==============================] - 2s 3ms/step\n",
      "Done.\n",
      "Test loss: 0.28709950852394106\n",
      "Test accuracy: 0.8699999990463256\n"
     ]
    }
   ],
   "source": [
    "# Evaluate model\n",
    "print('Evaluating model.')\n",
    "eval_results = model.evaluate([X_test, A_test],\n",
    "                              y_test,\n",
    "                              batch_size=batch_size)\n",
    "print('Done.\\n'\n",
    "      'Test loss: {}\\n'\n",
    "      'Test accuracy: {}'.format(*eval_results))"
   ]
  },
  {
   "cell_type": "code",
   "execution_count": 14,
   "metadata": {},
   "outputs": [],
   "source": [
    "# Predictions calculation\n",
    "y_test_pred = model.predict([X_test, A_test])\n",
    "\n",
    "\n",
    "y_test_classes = y_test.argmax(axis=-1)\n",
    "y_pred_classes = y_test_pred.argmax(axis=-1)\n"
   ]
  },
  {
   "cell_type": "code",
   "execution_count": 15,
   "metadata": {},
   "outputs": [
    {
     "data": {
      "text/plain": [
       "array([[306,  19],\n",
       "       [ 46, 129]])"
      ]
     },
     "execution_count": 15,
     "metadata": {},
     "output_type": "execute_result"
    }
   ],
   "source": [
    "# Matrix confusion\n",
    "y_test_classes = y_test.argmax(axis=-1)\n",
    "y_pred_classes = y_test_pred.argmax(axis=-1)\n",
    "confusion_matrix(y_test_classes, y_pred_classes)"
   ]
  },
  {
   "cell_type": "code",
   "execution_count": null,
   "metadata": {},
   "outputs": [],
   "source": []
  }
 ],
 "metadata": {
  "kernelspec": {
   "display_name": "Python 3",
   "language": "python",
   "name": "python3"
  },
  "language_info": {
   "codemirror_mode": {
    "name": "ipython",
    "version": 3
   },
   "file_extension": ".py",
   "mimetype": "text/x-python",
   "name": "python",
   "nbconvert_exporter": "python",
   "pygments_lexer": "ipython3",
   "version": "3.6.9"
  }
 },
 "nbformat": 4,
 "nbformat_minor": 2
}
